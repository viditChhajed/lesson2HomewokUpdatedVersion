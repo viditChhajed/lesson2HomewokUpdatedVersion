{
  "nbformat": 4,
  "nbformat_minor": 0,
  "metadata": {
    "colab": {
      "name": "Lesson 2 Homework",
      "provenance": []
    },
    "kernelspec": {
      "name": "python3",
      "display_name": "Python 3"
    },
    "language_info": {
      "name": "python"
    }
  },
  "cells": [
    {
      "cell_type": "code",
      "metadata": {
        "id": "Lqyusyel3HUP"
      },
      "source": [
        "print('Hello')\n",
        "name=(input('What is your name? Please write only first name and capitalize first letter. No spaces before for after name either. '))\n",
        "\n",
        "if name == 'Sachin':\n",
        "  print('Hi papa. ')\n",
        "  answer1=(input('How has your day been so far? Please write good or bad, no caps. DONT SAY INTEESTING! '))\n",
        "  if answer1 == 'good':\n",
        "    print('Glad to hear that! ')\n",
        "    answer2=input('How was work today? Or if you have not gone to work yet, how was work yesterday? Please just write good or bad, no caps ' )\n",
        "  elif answer1 == 'bad':\n",
        "    print('You already do all of Ashish ka work. Now do you have to do Als too? LOL ')\n",
        "    answer2=input('How was work today? Or if you have not gone to work yet, how was work yesterday? Please just write good or bad, no caps ' )\n",
        "  if answer2 == 'good':\n",
        "    print('Glad to hear that! ')\n",
        "    print('Well I well let you leave now so you can do your work')\n",
        "  elif answer1 == 'bad':\n",
        "    print('So sorry to hear that. ')\n",
        "    print('Well I well let you leave now so you can do your work')\n",
        "  \n",
        "       \n",
        "\n",
        "elif name == 'Deepa':\n",
        "  print('Hi mama. ')\n",
        "  answer1=(input('How has your day been so far? Please write good or bad, no caps. '))\n",
        "  if answer1 == 'good':\n",
        "    print('Glad to hear that! ')\n",
        "    answer2=input('What are you making for dinner tonight? ')\n",
        "    print('Ooh!',answer2,'sounds yummy. Well, I will leave you to do your work. Bye!')\n",
        "  elif answer1 == 'bad':\n",
        "    print('Saachi already broke your kambar, now did she break your back? LOL ')\n",
        "    answer2=input('What are you making for dinner tonight? ')\n",
        "    print('Ooh!',answer2,'sounds yummy. Well, I will leave you to do your work. Bye!')\n",
        "    \n",
        "\n",
        "elif name == 'Tiya':\n",
        "  print('Hi Tiya Didi. ')\n",
        "  answer1=(input('How has your school been today? If you have not gone to school yet, How was school yesterday? Please write good or bad, no caps. '))\n",
        "  if answer1 == 'good':\n",
        "    print('Glad to hear that! ')\n",
        "    answer2=input('Are you excited for your birthday coming up? Please write yes or no, no caps. ')\n",
        "  elif answer1 == 'bad':\n",
        "    print('I bet Ap Chem troubled you. LOL ')\n",
        "    answer2=input('Are you excited for your birthday coming up? Please write yes or no, no caps. ')\n",
        "  if answer2 == 'yes':\n",
        "    print('Ok. I will leave you so you can plan for your birthday')\n",
        "  if answer2 == 'no':\n",
        "    print('Why? Well if you dont want to plan for your birthday, I will let you go study')\n",
        "    \n",
        "\n",
        "else:\n",
        "  print('Error you are not one of my family members.')\n",
        "\n",
        "\n",
        "  \n",
        "  \n",
        "\n",
        "\n",
        "\n",
        "\n",
        "\n",
        "\n",
        "\n"
      ],
      "execution_count": null,
      "outputs": []
    },
    {
      "cell_type": "code",
      "metadata": {
        "id": "oAnwzU9G3INw"
      },
      "source": [
        "\n",
        "\n",
        "\n"
      ],
      "execution_count": 21,
      "outputs": []
    },
    {
      "cell_type": "code",
      "metadata": {
        "id": "wJ9veHK43kOk"
      },
      "source": [
        ""
      ],
      "execution_count": null,
      "outputs": []
    }
  ]
}